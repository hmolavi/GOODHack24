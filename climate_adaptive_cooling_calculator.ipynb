{
  "nbformat": 4,
  "nbformat_minor": 0,
  "metadata": {
    "colab": {
      "provenance": [],
      "mount_file_id": "1QVu0ed71D9j2E3TGveb4To39Fl7a8tNT",
      "authorship_tag": "ABX9TyMrHhjYZ44wO8HijGBX0gNv",
      "include_colab_link": true
    },
    "kernelspec": {
      "name": "python3",
      "display_name": "Python 3"
    },
    "language_info": {
      "name": "python"
    }
  },
  "cells": [
    {
      "cell_type": "markdown",
      "metadata": {
        "id": "view-in-github",
        "colab_type": "text"
      },
      "source": [
        "<a href=\"https://colab.research.google.com/github/hmolavi/GOODHack24/blob/main/climate_adaptive_cooling_calculator.ipynb\" target=\"_parent\"><img src=\"https://colab.research.google.com/assets/colab-badge.svg\" alt=\"Open In Colab\"/></a>"
      ]
    },
    {
      "cell_type": "markdown",
      "source": [
        "Putting it all together!\n",
        "\n",
        "Demo"
      ],
      "metadata": {
        "id": "nmZV0IoRrdB_"
      }
    },
    {
      "cell_type": "code",
      "source": [
        "import requests\n",
        "import geopandas as gpd\n",
        "import pandas as pd\n",
        "from google.colab import drive\n",
        "\n",
        "zipcode = \"N2G 1H6\" # Communitech, Kitchener\n",
        "\n",
        "\n",
        "service_url = \"https://services1.arcgis.com/qAo1OsXi67t7XgmS/arcgis/rest/services/TreeEquity_WFL1/FeatureServer/13/query?outFields=*&where=1%3D1&f=geojson\"\n",
        "response = requests.get(service_url)\n",
        "data = response.json()\n",
        "\n",
        "# Putting coordinates into CSV file for quick lookup\n",
        "coordinates_list = []\n",
        "\n",
        "for feature in data['features']:\n",
        "    if 'geometry' in feature and 'coordinates' in feature['geometry']:\n",
        "        coordinates = feature['geometry']['coordinates']\n",
        "        coordinates_list.append(coordinates)\n",
        "\n",
        "df = pd.DataFrame(coordinates_list, columns=['Coordinates'])\n",
        "df.to_csv('coordinates.csv', index=False)\n",
        "\n",
        "\n",
        "# Get coordinates from zip-code\n",
        "csv_path = '/content/drive/MyDrive/GOODHack24/CanadianPostalCodes202405Updated.csv'\n",
        "cc = pd.read_csv(csv_path)\n",
        "cc = cc[['POSTAL_CODE', 'LATITUDE', 'LONGITUDE']].rename(columns={'POSTAL_CODE': 'postcode', 'LATITUDE': 'lat', 'LONGITUDE': 'lon'})\n",
        "mydata = pd.DataFrame({'postcode': [zipcode]})\n",
        "mydata_aug = pd.merge(mydata, cc, on=\"postcode\", how=\"left\")\n",
        "lon = mydata_aug['lon'].iloc[0]\n",
        "lat = mydata_aug['lat'].iloc[0]\n",
        "coordinate_tuple = (lon, lat)\n",
        "\n",
        "# Find which Kitchener region the zip code is in\n",
        "df = pd.read_csv('coordinates.csv')\n",
        "def is_point_inside_polygon(x, y, poly):\n",
        "    \"\"\"\n",
        "    Determine if a point is inside a polygon using the ray casting algorithm.\n",
        "\n",
        "    Args:\n",
        "    x (float): x-coordinate of the point\n",
        "    y (float): y-coordinate of the point\n",
        "    poly (list of tuples): List of tuples representing the vertices of the polygon\n",
        "\n",
        "    Returns:\n",
        "    bool: True if the point is inside the polygon, False otherwise\n",
        "    \"\"\"\n",
        "    n = len(poly)\n",
        "    inside = False\n",
        "\n",
        "    p1x, p1y = poly[0]\n",
        "    for i in range(n + 1):\n",
        "        p2x, p2y = poly[i % n]\n",
        "        if y > min(p1y, p2y):\n",
        "            if y <= max(p1y, p2y):\n",
        "                if x <= max(p1x, p2x):\n",
        "                    if p1y != p2y:\n",
        "                        xinters = (y - p1y) * (p2x - p1x) / (p2y - p1y) + p1x\n",
        "                    if p1x == p2x or x <= xinters:\n",
        "                        inside = not inside\n",
        "        p1x, p1y = p2x, p2y\n",
        "\n",
        "    return inside\n",
        "\n",
        "target_id = -1\n",
        "\n",
        "for index, row in df.iterrows():\n",
        "    region_coordinates = eval(row['Coordinates'])\n",
        "    if is_point_inside_polygon(coordinate_tuple[0], coordinate_tuple[1], region_coordinates):\n",
        "        target_id = index + 1\n",
        "        break\n",
        "else:\n",
        "    print(\"The zip code is not inside Kitchener.\")\n",
        "\n",
        "\n",
        "# Pulling the desired data\n",
        "if target_id != -1:\n",
        "  gdf = gpd.GeoDataFrame.from_features(data['features'])\n",
        "  filtered_gdf = gdf.loc[gdf['OBJECTID'] == target_id]\n",
        "\n",
        "  selected_columns = ['mean_surfacetemp', 'heat_disparity']\n",
        "  filtered_properties = filtered_gdf[['OBJECTID'] + selected_columns]\n",
        "\n",
        "  print(filtered_properties)\n",
        "\n",
        "  # Save the selected properties to a CSV file\n",
        "  filtered_properties.to_csv('filtered_line_data.csv', index=False)\n",
        "\n"
      ],
      "metadata": {
        "colab": {
          "base_uri": "https://localhost:8080/"
        },
        "id": "YbJxjHAxo--p",
        "outputId": "4e814385-24de-4d72-d921-f5b35747df98"
      },
      "execution_count": null,
      "outputs": [
        {
          "output_type": "stream",
          "name": "stdout",
          "text": [
            "     OBJECTID  mean_surfacetemp  heat_disparity\n",
            "151       152             35.74            2.67\n"
          ]
        }
      ]
    },
    {
      "cell_type": "code",
      "source": [
        "# 93.6 days of summer\n",
        "\n",
        "print(\"\\\"It's estimated to reduce energy costs by around 1-3% per degree for each 8-hour period\\\" ~ thomasgalbraith.com\")\n",
        "\n",
        "lowerBound = 93.6 * (35.74 - 20) / 100\n",
        "higherBound = 3*lowerBound\n",
        "\n",
        "print(\"Lower Bound Savings\", round(lowerBound) )\n",
        "print(\"Higher Bound Savings\", round(higherBound))"
      ],
      "metadata": {
        "colab": {
          "base_uri": "https://localhost:8080/"
        },
        "id": "KxZs19Ep8LbZ",
        "outputId": "8503d1b0-18c3-4997-d6b5-cf3770bd26b3"
      },
      "execution_count": null,
      "outputs": [
        {
          "output_type": "stream",
          "name": "stdout",
          "text": [
            "\"It's estimated to reduce energy costs by around 1-3% per degree for each 8-hour period\" ~ thomasgalbraith.com\n",
            "Lower Bound Savings 15\n",
            "Higher Bound Savings 44\n"
          ]
        }
      ]
    }
  ]
}